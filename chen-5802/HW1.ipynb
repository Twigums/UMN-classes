{
  "cells": [
    {
      "cell_type": "markdown",
      "metadata": {
        "id": "fAUZh7B5tiou"
      },
      "source": [
        "# Homework 1\n",
        "- **Due**: Thurs 2/1/24 at 6 pm CT\n",
        "- Submit as .ipynb file on GradeScope\n",
        "- Scoring:\n",
        "  - (1): 40 points\n",
        "    - (a)-(b): 20 points each\n",
        "  - (2): 20 points\n",
        "    - (a)-(d): 5 points each\n",
        "  - (3): 15 points\n",
        "    - (a)-(e): 3 points each\n",
        "  - (4): 12 points\n",
        "    - (a)-(b): 6 points each\n",
        "  - (5): 13 points"
      ]
    },
    {
      "cell_type": "markdown",
      "metadata": {
        "id": "7b77EoeHtioy"
      },
      "source": [
        "# Helpful resources\n",
        "\n",
        "- [CEMS Python Toolkit](https://docs.cems.umn.edu/intro/intro.html)\n",
        "- [Markdown cheat sheet](https://www.markdownguide.org/cheat-sheet/)\n",
        "- [Jupyter cheat sheet](https://www.edureka.co/blog/wp-content/uploads/2018/10/Jupyter_Notebook_CheatSheet_Edureka.pdf)\n",
        "- the review/perspective articles in [Lecture 1](https://canvas.umn.edu/courses/412435/pages/lectures) might be helpful places to start to find a paper of interest"
      ]
    },
    {
      "cell_type": "markdown",
      "metadata": {
        "id": "64vwPlEutio0"
      },
      "source": [
        "# Guidelines\n",
        "- for all code questions, you should include some form of printed validation that confirms that your provided solution is working as expected\n",
        "- all code should run as written using the `cems5802_24.0` conda environment\n",
        "    - **remember**, you can set your conda environment in jupyter by going to Kernel > Change kernel > cems5802_24.0"
      ]
    },
    {
      "cell_type": "markdown",
      "metadata": {
        "id": "RS_c0-Aftio1"
      },
      "source": [
        "# (1) Lit review\n",
        "Find a paper in the scientific literature that uses machine learning to solve a problem in Chemical Engineering or Materials Science (broadly defined)\n",
        "### (a) Paste the title, abstract, authors, and DOI into a Markdown cell\n",
        "\n",
        "### (b) Briefly (1-3 sentences each) describe the following points about the paper:\n",
        "\n",
        "1) what is the problem they are trying to solve?\n",
        "2) what is the machine learning method they used?\n",
        "3) where did they get their data?\n",
        "4) how did they assess the performance of their model?\n",
        "5) what is at least one limitation of their approach?\n",
        "\n",
        "### *scoring*:\n",
        "#### (a):\n",
        "- +5 points for providing each item\n",
        "\n",
        "#### (b):\n",
        "- for each question:\n",
        "    - +1 points for attempting\n",
        "    - +3 points for satisfactory answer"
      ]
    },
    {
      "cell_type": "markdown",
      "metadata": {
        "id": "HU4ukBKFtio2"
      },
      "source": [
        "# Write your response to (a) here\n",
        "\n",
        "**Title**: Prediction of bio-oil yield during pyrolysis of lignocellulosic biomass using machine learning algorithms\n",
        "\n",
        "**Abstract**: This work aims to implement and use machine learning algorithms to predict the yield of bio-oil during the pyrolysis of lignocellulosic biomass based on the physicochemical properties and composition of the biomass feed and pyrolysis conditions. The biomass pyrolysis process is influenced by different process parameters, such as pyrolysis temperature, heating rate, composition of biomass, and purge gas flow rate. The inter-relation between the yield of different pyrolysis products and process parameters can be well predicted by using different machine learning algorithms. In this study, different machine learning algorithms, namely, multi-linear regression, gradient boosting, random forest, and decision tree, have been trained on the dataset and the models are compared to identify the optimum method for the determination of bio-oil yield prediction model. Analysis of the results showed the gradient boosting method to possess a regression score of 0.97 and 0.89 for the training and testing sets with root-mean-squared error (RMSE) values of 1.19 and 2.39, respectively, and overcome the problem of overfitting. Therefore, the present study provides an approach to train a generalized machine learning model, which can be employed on large datasets while avoiding the error of overfitting.\n",
        "\n",
        "**Authors**: Jayant Mathur, Bhargav Baruah, Pankaj Tiwari\n",
        "\n",
        "**DOI**: 10.1002/cjce.24674"
      ]
    },
    {
      "cell_type": "markdown",
      "metadata": {
        "id": "FDNVu9Pgtio2"
      },
      "source": [
        "# Write your response to (b) here\n",
        "\n",
        "As more communities start to use biomass, finding how a particular biomass separates into bio-oil and other products is expensive both in time and energy. Therefore, machine learning can help to conveniently describe that particular biomass.\n",
        "\n",
        "The group used multiple machine learning approaches. They used multi-linear regression, gradient boosting, random forest, and decision tree to predict the yield of bio-oil.\n",
        "\n",
        "Mathur et al. cited 3 papers where they retrieved their pyrolysis parameters data from (315 points), and they have the dataset tabulated in their appendix.\n",
        "\n",
        "They tested all of their models, and they used the statistical $R^2$ measure as well as a root mean squared error, RMSE. When comparing their best approach (gradient boosting) to previous works, their test set testing performed better than two other approaches, using random forest and ANN, but it also performed worse than two approaches using ANN on different data sets.\n",
        "\n",
        "In their introduction, they explicitly defined the limitations of each model that they used. For example, they claimed that gradient boosting was computationally expensive and is prone to overfitting. In fact, in this paper,they specifically explained that they observed overfitting with their gradient boosting model."
      ]
    },
    {
      "cell_type": "markdown",
      "metadata": {
        "id": "4dyvnhXptio3"
      },
      "source": [
        "# (2) python syntax\n",
        "- **Remember**: there should be printed validation for your solution\n",
        "\n",
        "### (a)\n",
        "- write a `print` statement that prints \"Earth is the 3rd planet from the sun\" using string formatting with variables: `planet = \"Earth\"` and `number = 3`\n",
        "\n",
        "### (b)\n",
        "```python\n",
        "a_list = [1, 1, 2, 3, 5, 8, 13, 21]\n",
        "```\n",
        "- use list indexing to print the first, last, and third numbers in `a_list`\n",
        "\n",
        "### (c)\n",
        "```python\n",
        "a_dict = {}\n",
        "for x in [1,2,3,1234]:\n",
        "    a_dict[x] = x**3\n",
        "```\n",
        "- use `a_dict` to print 1234^3\n",
        "\n",
        "### (d)\n",
        "- fix the indentation issues in the following code:\n",
        "```python\n",
        "for i,key in enumerate(a_dict):\n",
        "    val = a_dict[key]\n",
        "     print(\"=\"*5)\n",
        "    print(\"Item: {}\".format(i))\n",
        "    print(\"Key: {}\".format(key))\n",
        "     print(\"Value: {}\".format(val))\n",
        "        print(\"=\"*5)\n",
        "```\n",
        "\n",
        "### *scoring*:\n",
        "- (a)-(d):\n",
        "    - +2 points for attempting each part\n",
        "    - +3 points for providing a correct solution\n"
      ]
    },
    {
      "cell_type": "markdown",
      "metadata": {
        "id": "zq5lrBNktio4"
      },
      "source": [
        "# (2) Use separate code cells below to answer each part"
      ]
    },
    {
      "cell_type": "code",
      "execution_count": null,
      "metadata": {
        "colab": {
          "base_uri": "https://localhost:8080/"
        },
        "id": "1MJYEmFitio5",
        "outputId": "f854e09b-39d2-4715-c9e2-2ebe835984f7"
      },
      "outputs": [
        {
          "output_type": "stream",
          "name": "stdout",
          "text": [
            "Earth is the 3rd planet from the sun\n"
          ]
        }
      ],
      "source": [
        "# (a)\n",
        "planet = \"Earth\"\n",
        "number = 3\n",
        "\n",
        "print(planet + \" is the \" + str(number) + \"rd planet from the sun\")"
      ]
    },
    {
      "cell_type": "code",
      "execution_count": null,
      "metadata": {
        "colab": {
          "base_uri": "https://localhost:8080/"
        },
        "id": "bhf2r4rutio8",
        "outputId": "618085ea-fbf7-4012-9959-0ae390664d6a"
      },
      "outputs": [
        {
          "output_type": "stream",
          "name": "stdout",
          "text": [
            "1 2 21\n"
          ]
        }
      ],
      "source": [
        "# (b)\n",
        "a_list = [1, 1, 2, 3, 5, 8, 13, 21]\n",
        "print(a_list[0], a_list[2], a_list[-1])"
      ]
    },
    {
      "cell_type": "code",
      "execution_count": null,
      "metadata": {
        "colab": {
          "base_uri": "https://localhost:8080/"
        },
        "id": "HE0sZSZEtio9",
        "outputId": "b4fa0a88-a1ca-411e-8a31-b76ca51bba66"
      },
      "outputs": [
        {
          "output_type": "stream",
          "name": "stdout",
          "text": [
            "1879080904\n"
          ]
        }
      ],
      "source": [
        "# (c)\n",
        "a_dict = {}\n",
        "for x in [1,2,3,1234]:\n",
        "    a_dict[x] = x**3\n",
        "\n",
        "print(a_dict[1234])"
      ]
    },
    {
      "cell_type": "code",
      "execution_count": null,
      "metadata": {
        "colab": {
          "base_uri": "https://localhost:8080/"
        },
        "id": "DLBl6mk-tio_",
        "outputId": "6baf7954-3d80-4eb3-dda0-2964a0a7c35f"
      },
      "outputs": [
        {
          "output_type": "stream",
          "name": "stdout",
          "text": [
            "=====\n",
            "Item: 0\n",
            "Key: 1\n",
            "Value: 1\n",
            "=====\n",
            "=====\n",
            "Item: 1\n",
            "Key: 2\n",
            "Value: 8\n",
            "=====\n",
            "=====\n",
            "Item: 2\n",
            "Key: 3\n",
            "Value: 27\n",
            "=====\n",
            "=====\n",
            "Item: 3\n",
            "Key: 1234\n",
            "Value: 1879080904\n",
            "=====\n"
          ]
        }
      ],
      "source": [
        "# (d)\n",
        "for i,key in enumerate(a_dict):\n",
        "    val = a_dict[key]\n",
        "    print(\"=\"*5)\n",
        "    print(\"Item: {}\".format(i))\n",
        "    print(\"Key: {}\".format(key))\n",
        "    print(\"Value: {}\".format(val))\n",
        "    print(\"=\"*5)"
      ]
    },
    {
      "cell_type": "markdown",
      "metadata": {
        "id": "WWg1o-hDtio_"
      },
      "source": [
        "# (3) more python manipulations\n",
        "- perform the desired output in ***one line of python*** (not including defining the \"input\" if provided)\n",
        "- **Remember**: there should be printed validation for your solution\n",
        "    - you may use additional lines to check correctness and/or print your solution, but the requested manipulation should be done in one line\n",
        "\n",
        "### (a)\n",
        "`input_list` = ['Chemical', 'Engineering', 'and', 'Materials', 'Science']\n",
        "\n",
        "`output_string` = 'Chemical Engineering and Materials Science'\n",
        "\n",
        "### (b)\n",
        "`output_list` = even positive integers up to 100\n",
        "\n",
        "### (c)\n",
        "`output_dict` = dictionary mapping odd integers from -20 through 10 to the square of that odd integer\n",
        "\n",
        "### (d)\n",
        "`input_list` = ['a', 'b', 'c', 'd']\n",
        "\n",
        "`output_list` = ['d', 'c', 'b', 'a']\n",
        "\n",
        "### (e)\n",
        "`input_str` = 'I love Machine Learning'\n",
        "\n",
        "`output_str` = 'I love ML'\n",
        "\n",
        "### *scoring*:\n",
        "#### (a)-(e):\n",
        "- +2 points for attempting each part\n",
        "- +1 points for providing a correct solution"
      ]
    },
    {
      "cell_type": "markdown",
      "metadata": {
        "id": "RrPBYpS7tipA"
      },
      "source": [
        "# (3) Use separate code cells below to answer each part"
      ]
    },
    {
      "cell_type": "code",
      "execution_count": null,
      "metadata": {
        "colab": {
          "base_uri": "https://localhost:8080/"
        },
        "id": "p9tFK8aWtipB",
        "outputId": "135b2af1-c8ec-47c0-82a5-332ac3792f49"
      },
      "outputs": [
        {
          "output_type": "stream",
          "name": "stdout",
          "text": [
            "Chemical Engineering and Materials Science\n"
          ]
        }
      ],
      "source": [
        "# (a)\n",
        "input_list = ['Chemical', 'Engineering', 'and', 'Materials', 'Science']\n",
        "\n",
        "output_list = \" \".join(input_list)\n",
        "\n",
        "print(output_list)"
      ]
    },
    {
      "cell_type": "code",
      "execution_count": null,
      "metadata": {
        "colab": {
          "base_uri": "https://localhost:8080/"
        },
        "id": "BlgOkfwItipC",
        "outputId": "e3d4cfcf-4898-4575-c40c-46bd2575ed79"
      },
      "outputs": [
        {
          "output_type": "stream",
          "name": "stdout",
          "text": [
            "[0, 2, 4, 6, 8, 10, 12, 14, 16, 18, 20, 22, 24, 26, 28, 30, 32, 34, 36, 38, 40, 42, 44, 46, 48, 50, 52, 54, 56, 58, 60, 62, 64, 66, 68, 70, 72, 74, 76, 78, 80, 82, 84, 86, 88, 90, 92, 94, 96, 98, 100]\n"
          ]
        }
      ],
      "source": [
        "# (b)\n",
        "output_list = [x * 2 for x in range(0, 51)]\n",
        "\n",
        "print(output_list)"
      ]
    },
    {
      "cell_type": "code",
      "execution_count": null,
      "metadata": {
        "colab": {
          "base_uri": "https://localhost:8080/"
        },
        "id": "i9n80L5ytipC",
        "outputId": "975f7098-2861-46a8-eec4-c7f328c76c77"
      },
      "outputs": [
        {
          "output_type": "stream",
          "name": "stdout",
          "text": [
            "{-19: 361, -17: 289, -15: 225, -13: 169, -11: 121, -9: 81, -7: 49, -5: 25, -3: 9, -1: 1, 1: 1, 3: 9, 5: 25, 7: 49, 9: 81}\n"
          ]
        }
      ],
      "source": [
        "# (c)\n",
        "output_dict = {key * 2 + 1 : (key * 2 + 1) ** 2 for key in range(-10, 5)}\n",
        "\n",
        "print(output_dict)"
      ]
    },
    {
      "cell_type": "code",
      "execution_count": null,
      "metadata": {
        "colab": {
          "base_uri": "https://localhost:8080/"
        },
        "id": "mpE6GHl7tipD",
        "outputId": "3d5b9293-9778-4bea-a045-4aac30e1a7b9"
      },
      "outputs": [
        {
          "output_type": "stream",
          "name": "stdout",
          "text": [
            "['d', 'c', 'b', 'a']\n"
          ]
        }
      ],
      "source": [
        "# (d)\n",
        "input_list = ['a', 'b', 'c', 'd']\n",
        "\n",
        "output_list = sorted(input_list, reverse = True)\n",
        "\n",
        "print(output_list)"
      ]
    },
    {
      "cell_type": "code",
      "execution_count": null,
      "metadata": {
        "colab": {
          "base_uri": "https://localhost:8080/"
        },
        "id": "OEXBgOzWtipE",
        "outputId": "010528b9-1c1b-4847-b407-eca9d98e00cf"
      },
      "outputs": [
        {
          "output_type": "stream",
          "name": "stdout",
          "text": [
            "I love ML\n"
          ]
        }
      ],
      "source": [
        "# (e)\n",
        "input_str = 'I love Machine Learning'\n",
        "\n",
        "output_str = input_str.replace(\"Machine Learning\", \"ML\")\n",
        "\n",
        "print(output_str)"
      ]
    },
    {
      "cell_type": "markdown",
      "metadata": {
        "id": "FBUvU3cotipE"
      },
      "source": [
        "# (4) python functions\n",
        "- complete the following functions to achieve the expected behavior\n",
        "- **Remember**: there should be printed validation for your solution\n",
        "\n",
        "\n",
        "### (a)\n",
        "```python\n",
        "def square_root_integer(x):\n",
        "    \"\"\"\n",
        "    Args:\n",
        "        x (int): input integer\n",
        "    Returns:\n",
        "        False if x is not a positive integer\n",
        "        x^(1/2) (int) if x is a positive integer\n",
        "    \"\"\"\n",
        "```\n",
        "\n",
        "### (b)\n",
        "```python\n",
        "def make_list_of_cubed_numbers(max_val):\n",
        "    \"\"\"\n",
        "    Args:\n",
        "        max_val (int): maximum value to cube in list\n",
        "    Returns:\n",
        "        list of cubed integers from 1 through max_val\n",
        "        e.g., if max_val == 3, return [1, 8, 27]\n",
        "    \"\"\"\n",
        "```\n",
        "\n",
        "### *scoring*:\n",
        "#### (a)-(b):\n",
        "- +3 points for attempting each part\n",
        "- +3 points for providing a correct solution"
      ]
    },
    {
      "cell_type": "markdown",
      "metadata": {
        "id": "j_MbdsRotipE"
      },
      "source": [
        "# (4) Use separate code cells below to answer each part"
      ]
    },
    {
      "cell_type": "code",
      "execution_count": null,
      "metadata": {
        "id": "LZv0Jx4VtipF"
      },
      "outputs": [],
      "source": [
        "# (a)\n",
        "def square_root_integer(x):\n",
        "    \"\"\"\n",
        "    Args:\n",
        "        x (int): input integer\n",
        "    Returns:\n",
        "        False if x is not a positive integer\n",
        "        x^(1/2) (int) if x is a positive integer\n",
        "    \"\"\"\n",
        "\n",
        "    if x <= 0:\n",
        "      return False\n",
        "\n",
        "    else:\n",
        "      return int(x ** (1 / 2)) # as an integer as specified in docstring"
      ]
    },
    {
      "cell_type": "code",
      "execution_count": null,
      "metadata": {
        "id": "uC0Q6_BNtipF"
      },
      "outputs": [],
      "source": [
        "# (b)\n",
        "def make_list_of_cubed_numbers(max_val):\n",
        "    \"\"\"\n",
        "    Args:\n",
        "        max_val (int): maximum value to cube in list\n",
        "    Returns:\n",
        "        list of cubed integers from 1 through max_val\n",
        "        e.g., if max_val == 3, return [1, 8, 27]\n",
        "    \"\"\"\n",
        "\n",
        "    cubed_list = [val ** 3 for val in range(1, max_val + 1)]\n",
        "\n",
        "    return cubed_list"
      ]
    },
    {
      "cell_type": "markdown",
      "metadata": {
        "id": "abDVVwtJtipG"
      },
      "source": [
        "# (5) python classes\n",
        "- given the following dictionary:\n",
        "```python3\n",
        "silicon = {'symbol' : 'Si',\n",
        "           'inorganic' : True,\n",
        "           'atomic_number' : 14,\n",
        "           'melting_point' : 1687, # K,\n",
        "           'n_atoms_in_unit_cell' : 8,\n",
        "           'unit_cell_volume' : 5.43**3, # Angstrom^3\n",
        "           'atomic_mass' : 28.0855} # g/mol\n",
        "```\n",
        "\n",
        "- Create a class that allows all information in the `dict` to be returned as a property. Also use the values provided in `silicon` to compute and return the mass density of Si (g/cm^3) using `Silicon().mass_density`\n",
        "- **Remember**: there should be printed validation for your solution\n",
        "\n",
        "\n",
        "### *scoring*:\n",
        "- +5 points for attempting\n",
        "- +8 points for providing a correct solution\n"
      ]
    },
    {
      "cell_type": "markdown",
      "metadata": {
        "id": "MZTcSMf_tipG"
      },
      "source": [
        "# (5) Use a code cell below to answer this question"
      ]
    },
    {
      "cell_type": "code",
      "execution_count": null,
      "metadata": {
        "colab": {
          "base_uri": "https://localhost:8080/"
        },
        "id": "nPppp4fttipG",
        "outputId": "b6592313-8cdc-40f5-932b-01952e0d06d0"
      },
      "outputs": [
        {
          "output_type": "stream",
          "name": "stdout",
          "text": [
            "2.3300207839742044 g/cm3\n"
          ]
        }
      ],
      "source": [
        "# (5)\n",
        "\n",
        "class Silicon:\n",
        "\n",
        "    def __init__(self):\n",
        "        self.silicon = {'symbol' : 'Si',\n",
        "            'inorganic' : True,\n",
        "            'atomic_number' : 14,\n",
        "            'melting_point' : 1687, # K,\n",
        "            'n_atoms_in_unit_cell' : 8,\n",
        "            'unit_cell_volume' : 5.43**3, # Angstrom^3\n",
        "            'atomic_mass' : 28.0855} # g/mol\n",
        "\n",
        "    def mass_density(self):\n",
        "        return self.silicon[\"atomic_mass\"] / self.silicon[\"unit_cell_volume\"] * self.silicon[\"n_atoms_in_unit_cell\"] / 1e-24 / 6.023e23\n",
        "\n",
        "print(str(Silicon().mass_density()) + \" g/cm3\")"
      ]
    }
  ],
  "metadata": {
    "kernelspec": {
      "display_name": "cems5802_24.0",
      "language": "python",
      "name": "cems5802_24.0"
    },
    "language_info": {
      "codemirror_mode": {
        "name": "ipython",
        "version": 3
      },
      "file_extension": ".py",
      "mimetype": "text/x-python",
      "name": "python",
      "nbconvert_exporter": "python",
      "pygments_lexer": "ipython3",
      "version": "3.11.7"
    },
    "vscode": {
      "interpreter": {
        "hash": "702a0e69d05dce55110e57cc861025084f5bfa7960ad90440f1fb994b6254267"
      }
    },
    "colab": {
      "provenance": []
    }
  },
  "nbformat": 4,
  "nbformat_minor": 0
}